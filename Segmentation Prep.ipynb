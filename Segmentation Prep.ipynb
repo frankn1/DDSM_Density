{
 "cells": [
  {
   "cell_type": "code",
   "execution_count": 34,
   "metadata": {},
   "outputs": [],
   "source": [
    "import os\n",
    "import pydicom as pdcm\n",
    "import skimage.transform\n",
    "from PIL import Image\n",
    "import matplotlib.image\n",
    "import numpy as np"
   ]
  },
  {
   "cell_type": "code",
   "execution_count": 35,
   "metadata": {},
   "outputs": [],
   "source": [
    "def flipImage(img):\n",
    "    leftCount = []\n",
    "    rightCount = []\n",
    "    for row in range(img.shape[0]):\n",
    "        leftCount.append(img[row][0:int(img.shape[1]/2)])\n",
    "        rightCount.append(img[row][int(img.shape[1]/2):img.shape[1]-1])\n",
    "    left = np.mean(leftCount)\n",
    "    right = np.mean(rightCount)\n",
    "    if right > left:\n",
    "        img = np.fliplr(img)\n",
    "    \n",
    "    return img"
   ]
  },
  {
   "cell_type": "code",
   "execution_count": 38,
   "metadata": {},
   "outputs": [],
   "source": [
    "def makePNG(from_dir, to_dir):\n",
    "    for dicom in os.listdir(from_dir):\n",
    "        if \"CC\" not in dicom:\n",
    "            im = pdcm.dcmread(from_dir + dicom)\n",
    "            im = im.pixel_array\n",
    "            im = skimage.transform.resize(im, (224,224))\n",
    "            im = im*255\n",
    "            im = flipImage(im)\n",
    "            matplotlib.image.imsave(to_dir+dicom+'.png', im, cmap='gray')"
   ]
  },
  {
   "cell_type": "code",
   "execution_count": 39,
   "metadata": {},
   "outputs": [],
   "source": [
    "makePNG('D:/DDSM_Clean/Calc_Train/','D:/DDSM_Segmentation/Train_Images/')\n",
    "makePNG('D:/DDSM_Clean/Mass_Train/','D:/DDSM_Segmentation/Train_Images/')"
   ]
  },
  {
   "cell_type": "code",
   "execution_count": 40,
   "metadata": {},
   "outputs": [],
   "source": [
    "makePNG('D:/DDSM_Clean/Calc_Test/','D:/DDSM_Segmentation/Test_Images/')\n",
    "makePNG('D:/DDSM_Clean/Mass_Test/','D:/DDSM_Segmentation/Test_Images/')"
   ]
  },
  {
   "cell_type": "code",
   "execution_count": null,
   "metadata": {},
   "outputs": [],
   "source": []
  }
 ],
 "metadata": {
  "kernelspec": {
   "display_name": "Python 3",
   "language": "python",
   "name": "python3"
  },
  "language_info": {
   "codemirror_mode": {
    "name": "ipython",
    "version": 3
   },
   "file_extension": ".py",
   "mimetype": "text/x-python",
   "name": "python",
   "nbconvert_exporter": "python",
   "pygments_lexer": "ipython3",
   "version": "3.8.3"
  }
 },
 "nbformat": 4,
 "nbformat_minor": 4
}
